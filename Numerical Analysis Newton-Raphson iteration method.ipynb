{
 "cells": [
  {
   "cell_type": "markdown",
   "metadata": {},
   "source": [
    "# Newton - Raphson method: \n",
    "\n",
    "* The algorithm is pseudocode of Newton - Raphson iteration method\n",
    "\n",
    "\n",
    "\n",
    "* Input: $x_0, M, \\delta, \\epsilon$\n",
    "\n",
    "* $v  = f(x_0)$\n",
    "\n",
    "* Output 0, $x_0$, $v$\n",
    "\n",
    "\n",
    "**Iteration**\n",
    "\n",
    " for $k = 1$ to $M$ do: \n",
    "\n",
    "* $x_1 = x_0 - \\frac{v}{f'(x_0)}$\n",
    "\n",
    "* $v = f(x_1)$\n",
    "\n",
    "* Return $k, x_1, v$\n",
    "\n",
    "* If $|x_{1} - x_0| < \\delta$ or $|v| < \\epsilon$ then Stop\n",
    "\n",
    "* Else: $x_1 = x_0$\n"
   ]
  },
  {
   "cell_type": "code",
   "execution_count": 43,
   "metadata": {},
   "outputs": [],
   "source": [
    "import pandas as pd"
   ]
  },
  {
   "cell_type": "code",
   "execution_count": 72,
   "metadata": {},
   "outputs": [],
   "source": [
    "\n",
    "def newton(x0, func,fprime ,M, delta, eps): \n",
    "    v = func(x0);\n",
    "    if abs(v)<eps:\n",
    "        print('The Newton-Raphson method fails')\n",
    "        return None\n",
    "    else:\n",
    "        for k in range(1,M+1):\n",
    "            x1 = x0 - v/fprime(x0);\n",
    "            v = func(x1)\n",
    "            print('Iteration', k, 'Value', x1, 'Estimate', v)\n",
    "            if abs(x1 - x0) < delta or abs(v)<eps:\n",
    "                break\n",
    "            else: x0 = x1\n",
    "        "
   ]
  },
  {
   "cell_type": "code",
   "execution_count": 73,
   "metadata": {},
   "outputs": [],
   "source": [
    "def func( x ): \n",
    "    return x * x * x - x * x + 2\n",
    "\n",
    "def derivFunc( x ): \n",
    "    return 3 * x * x - 2 * x "
   ]
  },
  {
   "cell_type": "code",
   "execution_count": 76,
   "metadata": {},
   "outputs": [],
   "source": [
    "x0 = -100;\n",
    "M = 100;\n",
    "delta = 1*10**(-6);\n",
    "eps = 1/1000;"
   ]
  },
  {
   "cell_type": "code",
   "execution_count": 78,
   "metadata": {},
   "outputs": [
    {
     "name": "stdout",
     "output_type": "stream",
     "text": [
      "Iteration 1 Value -66.55635761589403 Estimate -299255.6899668423\n",
      "Iteration 2 Value -44.2610448864836 Estimate -88666.20164902002\n",
      "Iteration 3 Value -29.398236138713834 Estimate -26269.866729046586\n",
      "Iteration 4 Value -19.49093105834247 Estimate -7782.430808952962\n",
      "Iteration 5 Value -12.888214501177721 Estimate -2304.9167721662616\n",
      "Iteration 6 Value -8.490312747024284 Estimate -682.1130905439074\n",
      "Iteration 7 Value -5.565761717808794 Estimate -201.39221974216207\n",
      "Iteration 8 Value -3.6305007926601793 Estimate -59.03248242118245\n",
      "Iteration 9 Value -2.369193294565821 Estimate -16.911540942231653\n",
      "Iteration 10 Value -1.5854394262318692 Estimate -4.498807530200052\n",
      "Iteration 11 Value -1.1654506744011477 Estimate -0.9412781091063369\n",
      "Iteration 12 Value -1.0185074650192312 Estimate -0.09391376943470986\n",
      "Iteration 13 Value -1.0002685492692347 Estimate -0.0013430348403811188\n",
      "Iteration 14 Value -1.0000000576779295 Estimate -2.8838966104061114e-07\n"
     ]
    }
   ],
   "source": [
    "Values_Result = newton(x0, func,derivFunc, M, delta, eps)"
   ]
  },
  {
   "cell_type": "markdown",
   "metadata": {},
   "source": [
    "## Solve the equation: \n",
    "$$\n",
    "f(x) = x^{3} -5x^{2} + 3x - 7\n",
    "$$\n",
    "\n",
    "Solve the equation $f(x)$ by Newton's method. Take ten steps starting at $x_0 = 5$"
   ]
  },
  {
   "cell_type": "code",
   "execution_count": 81,
   "metadata": {},
   "outputs": [
    {
     "name": "stdout",
     "output_type": "stream",
     "text": [
      "Iteration 1 Value 4.714285714285714 Estimate 0.7930029154518827\n",
      "Iteration 2 Value 4.679089026915115 Estimate 0.011282631721336145\n",
      "Iteration 3 Value 4.678573620136039 Estimate 2.400560187965084e-06\n",
      "Iteration 4 Value 4.678573510428327 Estimate 1.0125233984581428e-13\n"
     ]
    }
   ],
   "source": [
    "x0 = 5; \n",
    "M = 10; \n",
    "delta = 1*10**(-6); \n",
    "eps = 0.000001;\n",
    "\n",
    "def f(x): \n",
    "    output = x**3 - 5*x**2 + 3*x - 7; \n",
    "    return output\n",
    "\n",
    "def fprime(x): \n",
    "    output = 3*x**2 - 10*x + 3;\n",
    "    return output\n",
    "\n",
    "### Result of solving f(x) using Newton-Raphson method: \n",
    "newton(x0, f, fprime, M, delta, eps);"
   ]
  },
  {
   "cell_type": "markdown",
   "metadata": {},
   "source": [
    "## Solve the equation: \n",
    "$$\n",
    "f(x) = 2x^{4} + 24x^{3} + 61x^{2} - 16x + 1\n",
    "$$\n",
    "\n",
    "The equation has two roots near 0.1. Determine them by means of Newton's method."
   ]
  },
  {
   "cell_type": "code",
   "execution_count": 83,
   "metadata": {},
   "outputs": [
    {
     "name": "stdout",
     "output_type": "stream",
     "text": [
      "Iteration 1 Value 0.06727583655141155 Estimate 0.2070237465476391\n",
      "Iteration 2 Value 0.09501199858865898 Estimate 0.05121987623754054\n",
      "Iteration 3 Value 0.10866440521858356 Estimate 0.012728003110837771\n",
      "Iteration 4 Value 0.1154256102737308 Estimate 0.0031603738460860287\n",
      "Iteration 5 Value 0.1187645795466266 Estimate 0.0007754351210290666\n",
      "Iteration 6 Value 0.12037417407276366 Estimate 0.00018073505707949522\n",
      "Iteration 7 Value 0.12107709172958511 Estimate 3.4516546723595276e-05\n",
      "Iteration 8 Value 0.12129431417444517 Estimate 3.298220421776854e-06\n",
      "Iteration 9 Value 0.12131997503956546 Estimate 4.603458636509572e-08\n"
     ]
    }
   ],
   "source": [
    "x0 = 0.01; \n",
    "M = 100; \n",
    "delta = 1*10**(-6); \n",
    "eps = 0.000001;\n",
    "\n",
    "def f(x): \n",
    "    output = 2*x**4 + 24*x**3 + 61*x**2 - 16*x + 1; \n",
    "    return output\n",
    "\n",
    "def fprime(x): \n",
    "    output = 8*x**3 + 24*3*x**2 + 61*2*x - 16;\n",
    "    return output\n",
    "\n",
    "### Result of solving f(x) using Newton-Raphson method: \n",
    "newton(x0, f, fprime, M, delta, eps);"
   ]
  },
  {
   "cell_type": "code",
   "execution_count": 85,
   "metadata": {},
   "outputs": [
    {
     "name": "stdout",
     "output_type": "stream",
     "text": [
      "Iteration 1 Value 0.322265625 Estimate 3.003739438514458\n",
      "Iteration 2 Value 0.225563358408282 Estimate 0.7752057110471311\n",
      "Iteration 3 Value 0.17480946158464777 Estimate 0.19718077939353718\n",
      "Iteration 4 Value 0.14876073736246892 Estimate 0.049731765492855295\n",
      "Iteration 5 Value 0.13556399763617855 Estimate 0.01247712862988748\n",
      "Iteration 6 Value 0.12893401736253612 Estimate 0.0031127857060258\n",
      "Iteration 7 Value 0.12563665839863844 Estimate 0.0007654317630461094\n",
      "Iteration 8 Value 0.12404209634344746 Estimate 0.00017848076723314676\n",
      "Iteration 9 Value 0.12334552646200703 Estimate 3.401234882094428e-05\n",
      "Iteration 10 Value 0.1231310505495124 Estimate 3.222666252744588e-06\n",
      "Iteration 11 Value 0.12310597790121731 Estimate 4.40340237606307e-08\n"
     ]
    }
   ],
   "source": [
    "x0 = 0.1; \n",
    "M = 100; \n",
    "delta = 1*10**(-6); \n",
    "eps = 0.000001;\n",
    "\n",
    "def f(x): \n",
    "    output = 2*x**4 + 24*x**3 + 61*x**2 - 16*x + 1; \n",
    "    return output\n",
    "\n",
    "def fprime(x): \n",
    "    output = 8*x**3 + 24*3*x**2 + 61*2*x - 16;\n",
    "    return output\n",
    "\n",
    "### Result of solving f(x) using Newton-Raphson method: \n",
    "newton(x0, f, fprime, M, delta, eps);"
   ]
  },
  {
   "cell_type": "code",
   "execution_count": null,
   "metadata": {},
   "outputs": [],
   "source": []
  }
 ],
 "metadata": {
  "kernelspec": {
   "display_name": "Python 3",
   "language": "python",
   "name": "python3"
  },
  "language_info": {
   "codemirror_mode": {
    "name": "ipython",
    "version": 3
   },
   "file_extension": ".py",
   "mimetype": "text/x-python",
   "name": "python",
   "nbconvert_exporter": "python",
   "pygments_lexer": "ipython3",
   "version": "3.7.4"
  }
 },
 "nbformat": 4,
 "nbformat_minor": 2
}
