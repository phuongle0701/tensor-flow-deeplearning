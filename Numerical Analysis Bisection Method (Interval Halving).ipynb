{
 "cells": [
  {
   "cell_type": "markdown",
   "metadata": {},
   "source": [
    "# Bisection Method: \n",
    "\n",
    "* Algorithm: \n",
    "\n",
    "1. Choose a starting interval $[a_0, b_0]$ such that $f(a_0)f(b_0) < 0$. \n",
    "\n",
    "2. Compute $f(m_0)$ where $m_0 = 0.5(a_0 + b_0)$ is the midpoint. \n",
    "\n",
    "3. Determine the next subinterval $[a_1, b_1]$: \n",
    "\n",
    "* (a). If $f(a_0) f(m_0) <0$ then let $[a_1, b_1]$ be the next interval with $a_1 = a_0, b_1 = m_0$. \n",
    "\n",
    "* (b). If $f(a_0) f(m_0) <0$ then let $[a_1, b_1]$ be the next interval with $a_1 = m_0, b_1 = b_0$. \n",
    "\n",
    "4. Repeat (2) and (3) until the interval $[a_N, b_N]$ reaches some predetermined length. \n",
    "\n",
    "5. Return the midpoint value $m_N = (a_N + b_N)/2$"
   ]
  },
  {
   "cell_type": "code",
   "execution_count": 25,
   "metadata": {},
   "outputs": [],
   "source": [
    "def bisection(f,a,b,N, tol):\n",
    "    '''Approximate solution of f(x)=0 on interval [a,b] by bisection method.\n",
    "\n",
    "    Parameters\n",
    "    ----------\n",
    "    f : function\n",
    "        The function for which we are trying to approximate a solution f(x)=0.\n",
    "    a,b : numbers\n",
    "        The interval in which to search for a solution. The function returns\n",
    "        None if f(a)*f(b) >= 0 since a solution is not guaranteed.\n",
    "    N : (positive) integer\n",
    "        The number of iterations to implement.\n",
    "\n",
    "    Returns\n",
    "    -------\n",
    "    x_N : number\n",
    "        The midpoint of the Nth interval computed by the bisection method. The\n",
    "        initial interval [a_0,b_0] is given by [a,b]. If f(m_n) == 0 for some\n",
    "        midpoint m_n = (a_n + b_n)/2, then the function returns this solution.\n",
    "        If all signs of values f(a_n), f(b_n) and f(m_n) are the same at any\n",
    "        iteration, the bisection method fails and return None.\n",
    "\n",
    "\n",
    "    '''\n",
    "    if f(a)*f(b) >= 0:\n",
    "        print(\"Bisection method fails.\")\n",
    "        return None\n",
    "    a_n = a\n",
    "    b_n = b\n",
    "    for n in range(1,N+1):\n",
    "        m_n = (a_n + b_n)/2\n",
    "        f_m_n = f(m_n)\n",
    "        if f(a_n)*f_m_n < 0:\n",
    "            a_n = a_n\n",
    "            b_n = m_n\n",
    "        elif f(b_n)*f_m_n < 0:\n",
    "            a_n = m_n\n",
    "            b_n = b_n\n",
    "        elif abs(f_m_n) < tol:\n",
    "            print(\"Found exact solution.\")\n",
    "            return m_n\n",
    "        else:\n",
    "            print(\"Bisection method fails.\")\n",
    "            return None\n",
    "    return (a_n + b_n)/2"
   ]
  },
  {
   "cell_type": "code",
   "execution_count": 26,
   "metadata": {},
   "outputs": [],
   "source": [
    "def f(x):\n",
    "    function = x**8 - 36*x**7 + 546*x**6 - 4536*x**5 + 22449*x**4-67284*x**3+118124*x**2-109584*x+40320\n",
    "    return function"
   ]
  },
  {
   "cell_type": "code",
   "execution_count": 27,
   "metadata": {},
   "outputs": [
    {
     "name": "stdout",
     "output_type": "stream",
     "text": [
      "Found exact solution.\n",
      "6.0\n"
     ]
    }
   ],
   "source": [
    "## Specify the interval:\n",
    "a = 5.5\n",
    "b = 6.5\n",
    "N = 100\n",
    "tol = 1/1000\n",
    "roots_func = bisection(f, a,b,N,tol)\n",
    "print(roots_func)"
   ]
  },
  {
   "cell_type": "code",
   "execution_count": 23,
   "metadata": {},
   "outputs": [],
   "source": [
    "def f2(x):\n",
    "    function = x**8 - 36.001*x**7 + 546*x**6 - 4536*x**5 + 22449*x**4-67284*x**3+118124*x**2-109584*x+40320\n",
    "    return function"
   ]
  },
  {
   "cell_type": "code",
   "execution_count": 29,
   "metadata": {},
   "outputs": [
    {
     "name": "stdout",
     "output_type": "stream",
     "text": [
      "Bisection method fails.\n",
      "None\n"
     ]
    }
   ],
   "source": [
    "## Specify the interval: \n",
    "a = 5.5;\n",
    "b = 6.5; \n",
    "N = 100;\n",
    "tol = 1/1000\n",
    "roots_func2 = bisection(f2, a,b,N, tol)\n",
    "print(roots_func2)"
   ]
  }
 ],
 "metadata": {
  "kernelspec": {
   "display_name": "Python 3",
   "language": "python",
   "name": "python3"
  },
  "language_info": {
   "codemirror_mode": {
    "name": "ipython",
    "version": 3
   },
   "file_extension": ".py",
   "mimetype": "text/x-python",
   "name": "python",
   "nbconvert_exporter": "python",
   "pygments_lexer": "ipython3",
   "version": "3.7.4"
  }
 },
 "nbformat": 4,
 "nbformat_minor": 2
}
