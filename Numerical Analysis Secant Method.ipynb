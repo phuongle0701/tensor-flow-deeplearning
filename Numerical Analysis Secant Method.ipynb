{
 "cells": [
  {
   "cell_type": "markdown",
   "metadata": {},
   "source": [
    "# Secant Algorithm: \n",
    "\n",
    "* Input: a,b,M,$\\delta, \\epsilon$, function\n",
    "\n",
    "* Implementation: \n",
    "\n",
    "1. $fa = f(a); fb = f(b)$ \n",
    "\n",
    "**Iteration**\n",
    "\n",
    "* for $k = 2$ to $M$ do: \n",
    "\n",
    "* if $|fa| > |fb|$ then:  $a  = b; fa = fb$ end if. \n",
    "\n",
    "* $s = (b-a)/(fb - fa)$\n",
    "\n",
    "* $b = a$\n",
    "\n",
    "* $fb = fa$\n",
    "\n",
    "* $a = a - fa*s$ \n",
    "\n",
    "* $fa = f(a)$ \n",
    "\n",
    "\n",
    "* Output: $k,a,fa$\n",
    "\n",
    "* Condition: $|fa| < \\epsilon$ or $|b-a| < \\delta$ then break\n"
   ]
  },
  {
   "cell_type": "code",
   "execution_count": 25,
   "metadata": {},
   "outputs": [],
   "source": [
    "## Algorithm of Secand mehod using python implementation: \n",
    "\n",
    "\n",
    "def secantmed(a,b,f,M,delta,eps):\n",
    "    fa = f(a);\n",
    "    fb = f(b);\n",
    "    ## Initial output:\n",
    "    print('Iteration', 0, 'Value', a, 'Evaluation',fa)\n",
    "    print('Iteration', 1, 'Value', b, 'Evaluation',fb)\n",
    "    if fa*fb >= 0:\n",
    "        print('The secant method fails.')\n",
    "        return None\n",
    "    elif fa*fb < 0:\n",
    "        for k in range(2,M+1):\n",
    "                s = (b-a)/(fb-fa);\n",
    "                b = a;\n",
    "                fb = fa;\n",
    "                a = a - fa*s;\n",
    "                fa = f(a);\n",
    "                print('Iteration',k,\n",
    "                 'Value', a, 'Evaluation', fa)\n",
    "                if abs(fa)<eps or abs(b-a)<delta:\n",
    "                    break"
   ]
  },
  {
   "cell_type": "markdown",
   "metadata": {},
   "source": [
    "## Solve the nonlinear equation: \n",
    "\n",
    "$$\n",
    "f(x) = x^{3} - sinh(x) + 4x^{2} + 6x + 9\n",
    "$$\n",
    "\n",
    "Choose the interval $[7,8]$. Find the approximation of the root."
   ]
  },
  {
   "cell_type": "code",
   "execution_count": 26,
   "metadata": {},
   "outputs": [
    {
     "name": "stdout",
     "output_type": "stream",
     "text": [
      "9.005004000833333\n"
     ]
    }
   ],
   "source": [
    "import numpy as np;\n",
    "\n",
    "def f(x):\n",
    "    function = x**3 - np.sinh(x) + 4*x**2 + 6*x + 9; \n",
    "    return function\n",
    "\n",
    "## Check the value\n",
    "print(f(0.001))"
   ]
  },
  {
   "cell_type": "code",
   "execution_count": 27,
   "metadata": {},
   "outputs": [
    {
     "name": "stdout",
     "output_type": "stream",
     "text": [
      "Iteration 0 Value 7 Evaluation 41.68387672675351\n",
      "Iteration 1 Value 8 Evaluation -665.4788257895502\n",
      "Iteration 2 Value 7.058945242132298 Evaluation 20.798251006836452\n",
      "Iteration 3 Value 7.117643887696801 Evaluation -1.8347151376718216\n",
      "Iteration 4 Value 7.112885550106826 Evaluation 0.07101122054363884\n",
      "Iteration 5 Value 7.113062855394422 Evaluation 0.00022911945200121409\n",
      "Iteration 6 Value 7.113063429326104 Evaluation -2.875052018680435e-08\n",
      "Iteration 7 Value 7.113063429254095 Evaluation -1.5631940186722204e-13\n"
     ]
    }
   ],
   "source": [
    "a = 7;\n",
    "b = 8; \n",
    "delta = 1/10000000000;\n",
    "eps = 1/100000000000;\n",
    "M = 100;\n",
    "secantmed(a,b,f,M,delta,eps)"
   ]
  },
  {
   "cell_type": "markdown",
   "metadata": {},
   "source": [
    "# Solving equation $f(x) = 0$ without using derivatives. Test the code on these functions on the intervals given\n",
    "\n",
    "1. $f(x) = x^{20} - 1$ on $[0,10]$.\n",
    "\n",
    "2. $f(x) = \\tan(x) - 30x$ on $[1,1.57]$.\n",
    "\n",
    "3. $f(x) = x^{19} + 10^{-4}$ on $[-0.75, 0.5]$. \n",
    "\n",
    "\n",
    "4. $f(x) = xe^{-x^{2}}$ on $[-1,4]$. "
   ]
  },
  {
   "cell_type": "code",
   "execution_count": 28,
   "metadata": {},
   "outputs": [
    {
     "name": "stdout",
     "output_type": "stream",
     "text": [
      "Iteration 0 Value 0 Evaluation -1\n",
      "Iteration 1 Value 10 Evaluation 99999999999999999999\n",
      "Iteration 2 Value 1e-19 Evaluation -1.0\n"
     ]
    }
   ],
   "source": [
    "## Equation 1:\n",
    "def f1(x):\n",
    "    function = x**20 -1;\n",
    "    return function\n",
    "v= 0;\n",
    "w = 10; \n",
    "delta = 1/10000;\n",
    "eps = 1/10000;\n",
    "M = 100;\n",
    "secantmed(v,w,f1,M,delta,eps)"
   ]
  },
  {
   "cell_type": "code",
   "execution_count": 29,
   "metadata": {},
   "outputs": [
    {
     "name": "stdout",
     "output_type": "stream",
     "text": [
      "Iteration 0 Value 1 Evaluation -28.4425922753451\n",
      "Iteration 1 Value 1.57 Evaluation 1208.6655915007898\n",
      "Iteration 2 Value 1.0131049796691673 Evaluation -28.78991231967872\n",
      "Iteration 3 Value -0.07318768262270448 Evaluation 2.122311840401345\n",
      "Iteration 4 Value 0.0013929029535476312 Evaluation -0.04039418475205375\n",
      "Iteration 5 Value -8.43122412088216e-08 Evaluation 2.4450549950558263e-06\n"
     ]
    }
   ],
   "source": [
    "## Equation 2:\n",
    "\n",
    "def f2(x): \n",
    "    function = np.tan(x) - 30*x;\n",
    "    return function\n",
    "\n",
    "v= 1;\n",
    "w = 1.57; \n",
    "delta = 1/10000;\n",
    "eps = 1/10000;\n",
    "M = 100;\n",
    "secantmed(v,w,f2,M,delta,eps)"
   ]
  },
  {
   "cell_type": "code",
   "execution_count": 30,
   "metadata": {},
   "outputs": [
    {
     "name": "stdout",
     "output_type": "stream",
     "text": [
      "Iteration 0 Value -0.75 Evaluation -0.004128282585245324\n",
      "Iteration 1 Value 0.5 Evaluation 0.0001019073486328125\n",
      "Iteration 2 Value 0.46988688740171236 Evaluation 0.00010058596704358905\n",
      "Iteration 3 Value 0.4408712060827268 Evaluation 0.00010017455125353562\n",
      "Iteration 4 Value -6.624080907368124 Evaluation -3993805754575833.0\n",
      "Iteration 5 Value 0.44087120608272645 Evaluation 0.00010017455125353562\n",
      "Iteration 6 Value 0.44087120608272645 Evaluation 0.00010017455125353562\n"
     ]
    }
   ],
   "source": [
    "## Equation 3: \n",
    "\n",
    "def f3(x): \n",
    "    function = x**19 + 10**(-4);\n",
    "    return function\n",
    "\n",
    "v= -0.75;\n",
    "w = 0.5; \n",
    "delta = 1/10000;\n",
    "eps = 1/10000;\n",
    "M = 100;\n",
    "secantmed(v,w,f3,M,delta,eps)"
   ]
  },
  {
   "cell_type": "code",
   "execution_count": 33,
   "metadata": {},
   "outputs": [
    {
     "name": "stdout",
     "output_type": "stream",
     "text": [
      "Iteration 0 Value -1 Evaluation -0.36787944117144233\n",
      "Iteration 1 Value 4 Evaluation 4.5014069887703647e-07\n",
      "Iteration 2 Value 3.9999938819610756 Evaluation 4.5016204269762147e-07\n"
     ]
    }
   ],
   "source": [
    "## Equation 4: \n",
    "def f4(x): \n",
    "    function = x*np.exp(-x**2);\n",
    "    return function\n",
    "\n",
    "v= -1;\n",
    "w = 4; \n",
    "delta = 1/1000;\n",
    "eps = 1/10000;\n",
    "M = 100;\n",
    "secantmed(v,w,f4,M,delta,eps)"
   ]
  }
 ],
 "metadata": {
  "kernelspec": {
   "display_name": "Python 3",
   "language": "python",
   "name": "python3"
  },
  "language_info": {
   "codemirror_mode": {
    "name": "ipython",
    "version": 3
   },
   "file_extension": ".py",
   "mimetype": "text/x-python",
   "name": "python",
   "nbconvert_exporter": "python",
   "pygments_lexer": "ipython3",
   "version": "3.7.4"
  }
 },
 "nbformat": 4,
 "nbformat_minor": 2
}
